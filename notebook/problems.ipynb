{
 "cells": [
  {
   "cell_type": "markdown",
   "id": "d9d036c6",
   "metadata": {},
   "source": [
    "# Hypothesis testing problems"
   ]
  },
  {
   "cell_type": "markdown",
   "id": "d157c4db",
   "metadata": {},
   "source": [
    "## Exercise 1\n",
    "\n",
    "You are a nutritionist researching two different types of diets to see if there is a significant difference in weight loss after one month. You choose two random groups of people; one group follows the first diet, and the other follows the second. At the end of the month, you record the weight loss (in kg) for each person:\n",
    "\n",
    "| Diet 1 | Diet 2 |\n",
    "|:-------|:-------|\n",
    "| 2.0 | 3.0 |\n",
    "| 2.5 | 3.2 |\n",
    "| 3.0 | 3.1 |\n",
    "| 2.8 | 2.9 |\n",
    "| 2.3 | 2.8 |\n",
    "| 2.7 | 3.0 |\n",
    "| 2.5 | 3.2 |\n",
    "\n",
    "With these data, it seeks to answer the following question: Is there a significant difference in average weight loss between people who followed the first diet and those who followed the second diet?\n",
    "\n",
    "To draw conclusions, follow the points below:\n",
    "\n",
    "- State the hypothesis: null and alternative hypothesis.\n",
    "- Perform the test to test the hypothesis. You can use a Student's t-test.\n",
    "- Analyze the conclusions."
   ]
  },
  {
   "cell_type": "code",
   "execution_count": 31,
   "id": "8e0f3cf0",
   "metadata": {},
   "outputs": [
    {
     "name": "stdout",
     "output_type": "stream",
     "text": [
      "t-stat value: -3.5383407969933938\n",
      "P-value: 0.004083270191713912\n",
      "Reject the null hypothesis; found significant difference. p=0.004083270191713912\n"
     ]
    }
   ],
   "source": [
    "# Null hypothesis: there is not a statistically-significant difference in students' average weight loss between the two dieting groups.\n",
    "# Alternative hypothesis: there is a statistically-significant difference in students' average weight loss between the two dieting groups.\n",
    "\n",
    "import numpy as np\n",
    "import scipy.stats as stats\n",
    "\n",
    "SIGNIFICANCE_LEVEL = 0.05\n",
    "\n",
    "def show_analysis(p_value, significance):\n",
    "    print(\n",
    "        f\"{'Reject' if p_value < significance else 'Fail to reject'} the null hypothesis; \"\n",
    "        f\"{'found significant difference' if p_value < significance else 'did not find significant difference'}. \"\n",
    "        f\"p={p_value}\"\n",
    "    )\n",
    "\n",
    "dieters_group_1 = np.array([2.0, 2.5, 3.0, 2.8, 2.3, 2.7, 2.5])\n",
    "dieters_group_2 = np.array([3.0, 3.2, 3.1, 2.9, 2.8, 3.0, 3.2])\n",
    "\n",
    "t_stat, p_value = stats.ttest_ind(dieters_group_1, dieters_group_2)\n",
    "\n",
    "print(f\"t-stat value: {t_stat}\")\n",
    "print(f\"P-value: {p_value}\")\n",
    "\n",
    "show_analysis(p_value, SIGNIFICANCE_LEVEL)"
   ]
  },
  {
   "cell_type": "markdown",
   "id": "f432e18e",
   "metadata": {},
   "source": [
    "## ANOVA\n",
    "\n",
    "**ANOVA** (*Analysis of Variance*) is a statistical technique used to compare the measures of two or more groups. The idea behind ANOVA is to decompose the total variability in the data into two components: between-group variability and within-group variability:\n",
    "\n",
    "- **Between-group variability**: This variability refers to the differences between the group means. If this variability is considerably larger than the within-group variability, it could be an indication that at least one of the group means is different.\n",
    "- **Within-group variability**: This variability refers to the dispersion of the data within each group. If all groups have similar variability, then any noticeable difference in group means could be considered significant.\n",
    "\n",
    "Hypotheses in ANOVA typically include:\n",
    "\n",
    "- **Null hypothesis** ($H₀$): The means of all groups are equal.\n",
    "- **Alternative hypothesis** ($H₁$): At least one of the group means is different.\n",
    "\n",
    "If the ANOVA test result is significant (e.g., a p-value less than a threshold such as 0.05), this suggests that at least one group mean is different."
   ]
  },
  {
   "cell_type": "markdown",
   "id": "fc5f3721",
   "metadata": {},
   "source": [
    "## Exercise 2\n",
    "\n",
    "A farmer decides to test three different types of fertilizers to determine if one is superior in terms of corn production. The farmer plants corn on 15 identical plots and uses all three fertilizers (5 plots for each type). At the end of the season, he measures the corn yield (in kg) of each plot, with the following result:\n",
    "\n",
    "| Fertilizer 1 | Fertilizer 2 | Fertilizer 3 |\n",
    "|:-------------|:-------------|:-------------|\n",
    "| 20 | 22 | 24 |\n",
    "| 21 | 21 | 23 |\n",
    "| 20 | 23 | 22 |\n",
    "| 19 | 22 | 23 |\n",
    "| 20 | 21 | 24 |\n",
    "\n",
    "With this data, he seeks to answer the following question: Is there a significant difference in average corn yield between the three types of fertilizers?\n",
    "\n",
    "To help you, follow the points below:\n",
    "\n",
    "- State the hypothesis: null and alternative hypothesis.\n",
    "- Perform the ANOVA test.\n",
    "- Analyze the conclusions.\n",
    "- If one fertilizer is better than another, how can we know it?"
   ]
  },
  {
   "cell_type": "code",
   "execution_count": 32,
   "id": "eecad0ca",
   "metadata": {},
   "outputs": [
    {
     "name": "stdout",
     "output_type": "stream",
     "text": [
      "f-stat value: 20.315789473684188\n",
      "P-value: 0.00014047824793190472\n",
      "Reject the null hypothesis; found significant difference. p=0.00014047824793190472\n",
      "     Multiple Comparison of Means - Tukey HSD, FWER=0.05      \n",
      "==============================================================\n",
      "   group1       group2    meandiff p-adj  lower  upper  reject\n",
      "--------------------------------------------------------------\n",
      "Fertilizer 1 Fertilizer 2      1.8 0.0099 0.4572 3.1428   True\n",
      "Fertilizer 1 Fertilizer 3      3.2 0.0001 1.8572 4.5428   True\n",
      "Fertilizer 2 Fertilizer 3      1.4 0.0409 0.0572 2.7428   True\n",
      "--------------------------------------------------------------\n"
     ]
    }
   ],
   "source": [
    "# Null hypothesis: there is not a statistically-significant difference in average corn yield between the three types of fertilizers\n",
    "# Alternative hypothesis: there is a statistically-significant difference in average corn yield between the three types of fertilizers\n",
    "\n",
    "import numpy as np\n",
    "import scipy.stats as stats\n",
    "from statsmodels.stats.multicomp import pairwise_tukeyhsd\n",
    "\n",
    "\n",
    "SIGNIFICANCE_LEVEL = 0.05\n",
    "\n",
    "fertilizer_1_group = np.array([20, 21, 20, 19, 20])\n",
    "fertilizer_2_group = np.array([22, 21, 23, 22, 21])\n",
    "fertilizer_3_group = np.array([24, 23, 22, 23, 24])\n",
    "\n",
    "f_stat, p_value = stats.f_oneway(fertilizer_1_group, fertilizer_2_group, fertilizer_3_group)\n",
    "\n",
    "print(f\"f-stat value: {f_stat}\")\n",
    "print(f\"P-value: {p_value}\")\n",
    "\n",
    "show_analysis(p_value, SIGNIFICANCE_LEVEL)\n",
    "\n",
    "\n",
    "# Prepare data for Tukey\n",
    "all_values = np.concatenate([fertilizer_1_group, fertilizer_2_group, fertilizer_3_group])\n",
    "labels = (\n",
    "    ['Fertilizer 1'] * len(fertilizer_1_group) +\n",
    "    ['Fertilizer 2'] * len(fertilizer_2_group) +\n",
    "    ['Fertilizer 3'] * len(fertilizer_3_group)\n",
    ")\n",
    "\n",
    "# Run Tukey HSD\n",
    "tukey_result = pairwise_tukeyhsd(endog=all_values, groups=labels, alpha=SIGNIFICANCE_LEVEL)\n",
    "print(tukey_result)\n",
    "# fertilizer 3 appears better than either 1 (meandiff 3.2; p-value indicating statistically significant) or 2 (meandiff 1.4, p-value indicating statistically significant).  Fertilizer 2 appears better than fertilizer 1, meandiff 1.8 between those two."
   ]
  }
 ],
 "metadata": {
  "kernelspec": {
   "display_name": "Python 3",
   "language": "python",
   "name": "python3"
  },
  "language_info": {
   "codemirror_mode": {
    "name": "ipython",
    "version": 3
   },
   "file_extension": ".py",
   "mimetype": "text/x-python",
   "name": "python",
   "nbconvert_exporter": "python",
   "pygments_lexer": "ipython3",
   "version": "3.11.4"
  }
 },
 "nbformat": 4,
 "nbformat_minor": 5
}
